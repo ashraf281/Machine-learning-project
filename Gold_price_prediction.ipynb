{
  "nbformat": 4,
  "nbformat_minor": 0,
  "metadata": {
    "colab": {
      "name": "Gold price prediction.ipynb",
      "provenance": [],
      "collapsed_sections": [],
      "authorship_tag": "ABX9TyPL7JhNqk26XhXz0e01EuEf",
      "include_colab_link": true
    },
    "kernelspec": {
      "name": "python3",
      "display_name": "Python 3"
    },
    "language_info": {
      "name": "python"
    }
  },
  "cells": [
    {
      "cell_type": "markdown",
      "metadata": {
        "id": "view-in-github",
        "colab_type": "text"
      },
      "source": [
        "<a href=\"https://colab.research.google.com/github/ashraf281/Machine-learning-project/blob/main/Gold_price_prediction.ipynb\" target=\"_parent\"><img src=\"https://colab.research.google.com/assets/colab-badge.svg\" alt=\"Open In Colab\"/></a>"
      ]
    },
    {
      "cell_type": "markdown",
      "metadata": {
        "id": "jj5_yWl8cnCl"
      },
      "source": [
        "Importing the libraries"
      ]
    },
    {
      "cell_type": "code",
      "metadata": {
        "id": "Ey7hOKU_cqnL"
      },
      "source": [
        "import numpy as np\n",
        "import pandas as pd\n",
        "import matplotlib.pyplot as plt\n",
        "import seaborn as sns\n",
        "from sklearn.model_selection import train_test_split\n",
        "from sklearn.ensemble import RandomForestRegressor\n",
        "from sklearn import metrics"
      ],
      "execution_count": 3,
      "outputs": []
    },
    {
      "cell_type": "markdown",
      "metadata": {
        "id": "-I7BJZcYeTEN"
      },
      "source": [
        "Data collection and processing"
      ]
    },
    {
      "cell_type": "code",
      "metadata": {
        "id": "4KMFYNfudZSM"
      },
      "source": [
        "#loading csv data to a pandas dataframe\n",
        "gold_data = pd.read_csv('/content/gld_price_data.csv')"
      ],
      "execution_count": 4,
      "outputs": []
    },
    {
      "cell_type": "code",
      "metadata": {
        "colab": {
          "base_uri": "https://localhost:8080/",
          "height": 203
        },
        "id": "NAZEUh5AfB_W",
        "outputId": "8e08cfdc-173d-443e-a27e-0785e4cf1a35"
      },
      "source": [
        "#print first five data\n",
        "gold_data.head()"
      ],
      "execution_count": 5,
      "outputs": [
        {
          "output_type": "execute_result",
          "data": {
            "text/html": [
              "<div>\n",
              "<style scoped>\n",
              "    .dataframe tbody tr th:only-of-type {\n",
              "        vertical-align: middle;\n",
              "    }\n",
              "\n",
              "    .dataframe tbody tr th {\n",
              "        vertical-align: top;\n",
              "    }\n",
              "\n",
              "    .dataframe thead th {\n",
              "        text-align: right;\n",
              "    }\n",
              "</style>\n",
              "<table border=\"1\" class=\"dataframe\">\n",
              "  <thead>\n",
              "    <tr style=\"text-align: right;\">\n",
              "      <th></th>\n",
              "      <th>Date</th>\n",
              "      <th>SPX</th>\n",
              "      <th>GLD</th>\n",
              "      <th>USO</th>\n",
              "      <th>SLV</th>\n",
              "      <th>EUR/USD</th>\n",
              "    </tr>\n",
              "  </thead>\n",
              "  <tbody>\n",
              "    <tr>\n",
              "      <th>0</th>\n",
              "      <td>1/2/2008</td>\n",
              "      <td>1447.160034</td>\n",
              "      <td>84.860001</td>\n",
              "      <td>78.470001</td>\n",
              "      <td>15.180</td>\n",
              "      <td>1.471692</td>\n",
              "    </tr>\n",
              "    <tr>\n",
              "      <th>1</th>\n",
              "      <td>1/3/2008</td>\n",
              "      <td>1447.160034</td>\n",
              "      <td>85.570000</td>\n",
              "      <td>78.370003</td>\n",
              "      <td>15.285</td>\n",
              "      <td>1.474491</td>\n",
              "    </tr>\n",
              "    <tr>\n",
              "      <th>2</th>\n",
              "      <td>1/4/2008</td>\n",
              "      <td>1411.630005</td>\n",
              "      <td>85.129997</td>\n",
              "      <td>77.309998</td>\n",
              "      <td>15.167</td>\n",
              "      <td>1.475492</td>\n",
              "    </tr>\n",
              "    <tr>\n",
              "      <th>3</th>\n",
              "      <td>1/7/2008</td>\n",
              "      <td>1416.180054</td>\n",
              "      <td>84.769997</td>\n",
              "      <td>75.500000</td>\n",
              "      <td>15.053</td>\n",
              "      <td>1.468299</td>\n",
              "    </tr>\n",
              "    <tr>\n",
              "      <th>4</th>\n",
              "      <td>1/8/2008</td>\n",
              "      <td>1390.189941</td>\n",
              "      <td>86.779999</td>\n",
              "      <td>76.059998</td>\n",
              "      <td>15.590</td>\n",
              "      <td>1.557099</td>\n",
              "    </tr>\n",
              "  </tbody>\n",
              "</table>\n",
              "</div>"
            ],
            "text/plain": [
              "       Date          SPX        GLD        USO     SLV   EUR/USD\n",
              "0  1/2/2008  1447.160034  84.860001  78.470001  15.180  1.471692\n",
              "1  1/3/2008  1447.160034  85.570000  78.370003  15.285  1.474491\n",
              "2  1/4/2008  1411.630005  85.129997  77.309998  15.167  1.475492\n",
              "3  1/7/2008  1416.180054  84.769997  75.500000  15.053  1.468299\n",
              "4  1/8/2008  1390.189941  86.779999  76.059998  15.590  1.557099"
            ]
          },
          "metadata": {},
          "execution_count": 5
        }
      ]
    },
    {
      "cell_type": "code",
      "metadata": {
        "colab": {
          "base_uri": "https://localhost:8080/",
          "height": 203
        },
        "id": "lai_-qJpfaKV",
        "outputId": "7517e6d4-f637-4d51-b196-5223580bfdcd"
      },
      "source": [
        "#last five rows of the dataframe\n",
        "gold_data.tail()"
      ],
      "execution_count": 6,
      "outputs": [
        {
          "output_type": "execute_result",
          "data": {
            "text/html": [
              "<div>\n",
              "<style scoped>\n",
              "    .dataframe tbody tr th:only-of-type {\n",
              "        vertical-align: middle;\n",
              "    }\n",
              "\n",
              "    .dataframe tbody tr th {\n",
              "        vertical-align: top;\n",
              "    }\n",
              "\n",
              "    .dataframe thead th {\n",
              "        text-align: right;\n",
              "    }\n",
              "</style>\n",
              "<table border=\"1\" class=\"dataframe\">\n",
              "  <thead>\n",
              "    <tr style=\"text-align: right;\">\n",
              "      <th></th>\n",
              "      <th>Date</th>\n",
              "      <th>SPX</th>\n",
              "      <th>GLD</th>\n",
              "      <th>USO</th>\n",
              "      <th>SLV</th>\n",
              "      <th>EUR/USD</th>\n",
              "    </tr>\n",
              "  </thead>\n",
              "  <tbody>\n",
              "    <tr>\n",
              "      <th>2285</th>\n",
              "      <td>5/8/2018</td>\n",
              "      <td>2671.919922</td>\n",
              "      <td>124.589996</td>\n",
              "      <td>14.0600</td>\n",
              "      <td>15.5100</td>\n",
              "      <td>1.186789</td>\n",
              "    </tr>\n",
              "    <tr>\n",
              "      <th>2286</th>\n",
              "      <td>5/9/2018</td>\n",
              "      <td>2697.790039</td>\n",
              "      <td>124.330002</td>\n",
              "      <td>14.3700</td>\n",
              "      <td>15.5300</td>\n",
              "      <td>1.184722</td>\n",
              "    </tr>\n",
              "    <tr>\n",
              "      <th>2287</th>\n",
              "      <td>5/10/2018</td>\n",
              "      <td>2723.070068</td>\n",
              "      <td>125.180000</td>\n",
              "      <td>14.4100</td>\n",
              "      <td>15.7400</td>\n",
              "      <td>1.191753</td>\n",
              "    </tr>\n",
              "    <tr>\n",
              "      <th>2288</th>\n",
              "      <td>5/14/2018</td>\n",
              "      <td>2730.129883</td>\n",
              "      <td>124.489998</td>\n",
              "      <td>14.3800</td>\n",
              "      <td>15.5600</td>\n",
              "      <td>1.193118</td>\n",
              "    </tr>\n",
              "    <tr>\n",
              "      <th>2289</th>\n",
              "      <td>5/16/2018</td>\n",
              "      <td>2725.780029</td>\n",
              "      <td>122.543800</td>\n",
              "      <td>14.4058</td>\n",
              "      <td>15.4542</td>\n",
              "      <td>1.182033</td>\n",
              "    </tr>\n",
              "  </tbody>\n",
              "</table>\n",
              "</div>"
            ],
            "text/plain": [
              "           Date          SPX         GLD      USO      SLV   EUR/USD\n",
              "2285   5/8/2018  2671.919922  124.589996  14.0600  15.5100  1.186789\n",
              "2286   5/9/2018  2697.790039  124.330002  14.3700  15.5300  1.184722\n",
              "2287  5/10/2018  2723.070068  125.180000  14.4100  15.7400  1.191753\n",
              "2288  5/14/2018  2730.129883  124.489998  14.3800  15.5600  1.193118\n",
              "2289  5/16/2018  2725.780029  122.543800  14.4058  15.4542  1.182033"
            ]
          },
          "metadata": {},
          "execution_count": 6
        }
      ]
    },
    {
      "cell_type": "code",
      "metadata": {
        "colab": {
          "base_uri": "https://localhost:8080/"
        },
        "id": "X9fwnphefMDL",
        "outputId": "008cbc75-61d0-4044-fc75-4f2873c7d053"
      },
      "source": [
        "#number of rows and column\n",
        "gold_data.shape"
      ],
      "execution_count": 7,
      "outputs": [
        {
          "output_type": "execute_result",
          "data": {
            "text/plain": [
              "(2290, 6)"
            ]
          },
          "metadata": {},
          "execution_count": 7
        }
      ]
    },
    {
      "cell_type": "code",
      "metadata": {
        "colab": {
          "base_uri": "https://localhost:8080/"
        },
        "id": "Up-jrGc0f5w9",
        "outputId": "2f2c6d7f-ded9-4777-b253-8d203f09a0d1"
      },
      "source": [
        "#getting some basic information about the data\n",
        "gold_data.info()"
      ],
      "execution_count": 8,
      "outputs": [
        {
          "output_type": "stream",
          "text": [
            "<class 'pandas.core.frame.DataFrame'>\n",
            "RangeIndex: 2290 entries, 0 to 2289\n",
            "Data columns (total 6 columns):\n",
            " #   Column   Non-Null Count  Dtype  \n",
            "---  ------   --------------  -----  \n",
            " 0   Date     2290 non-null   object \n",
            " 1   SPX      2290 non-null   float64\n",
            " 2   GLD      2290 non-null   float64\n",
            " 3   USO      2290 non-null   float64\n",
            " 4   SLV      2290 non-null   float64\n",
            " 5   EUR/USD  2290 non-null   float64\n",
            "dtypes: float64(5), object(1)\n",
            "memory usage: 107.5+ KB\n"
          ],
          "name": "stdout"
        }
      ]
    },
    {
      "cell_type": "code",
      "metadata": {
        "colab": {
          "base_uri": "https://localhost:8080/"
        },
        "id": "894ztvG2gD8k",
        "outputId": "1a7d2ec5-bea5-4436-db99-b77678027250"
      },
      "source": [
        "#checking the number of missing values\n",
        "gold_data.isnull().sum()"
      ],
      "execution_count": 10,
      "outputs": [
        {
          "output_type": "execute_result",
          "data": {
            "text/plain": [
              "Date       0\n",
              "SPX        0\n",
              "GLD        0\n",
              "USO        0\n",
              "SLV        0\n",
              "EUR/USD    0\n",
              "dtype: int64"
            ]
          },
          "metadata": {},
          "execution_count": 10
        }
      ]
    },
    {
      "cell_type": "markdown",
      "metadata": {
        "id": "5mqhWjt-giAg"
      },
      "source": [
        "so we don't have any missing values in the data\n"
      ]
    },
    {
      "cell_type": "markdown",
      "metadata": {
        "id": "XxZcABi1gnlW"
      },
      "source": [
        "\n",
        "Now getting some statistical measures of the data"
      ]
    },
    {
      "cell_type": "code",
      "metadata": {
        "colab": {
          "base_uri": "https://localhost:8080/",
          "height": 295
        },
        "id": "LIbBCi7ZgMvF",
        "outputId": "c3f7bb9a-ddb0-4130-f96a-67fb2605d7ba"
      },
      "source": [
        "gold_data.describe()"
      ],
      "execution_count": 11,
      "outputs": [
        {
          "output_type": "execute_result",
          "data": {
            "text/html": [
              "<div>\n",
              "<style scoped>\n",
              "    .dataframe tbody tr th:only-of-type {\n",
              "        vertical-align: middle;\n",
              "    }\n",
              "\n",
              "    .dataframe tbody tr th {\n",
              "        vertical-align: top;\n",
              "    }\n",
              "\n",
              "    .dataframe thead th {\n",
              "        text-align: right;\n",
              "    }\n",
              "</style>\n",
              "<table border=\"1\" class=\"dataframe\">\n",
              "  <thead>\n",
              "    <tr style=\"text-align: right;\">\n",
              "      <th></th>\n",
              "      <th>SPX</th>\n",
              "      <th>GLD</th>\n",
              "      <th>USO</th>\n",
              "      <th>SLV</th>\n",
              "      <th>EUR/USD</th>\n",
              "    </tr>\n",
              "  </thead>\n",
              "  <tbody>\n",
              "    <tr>\n",
              "      <th>count</th>\n",
              "      <td>2290.000000</td>\n",
              "      <td>2290.000000</td>\n",
              "      <td>2290.000000</td>\n",
              "      <td>2290.000000</td>\n",
              "      <td>2290.000000</td>\n",
              "    </tr>\n",
              "    <tr>\n",
              "      <th>mean</th>\n",
              "      <td>1654.315776</td>\n",
              "      <td>122.732875</td>\n",
              "      <td>31.842221</td>\n",
              "      <td>20.084997</td>\n",
              "      <td>1.283653</td>\n",
              "    </tr>\n",
              "    <tr>\n",
              "      <th>std</th>\n",
              "      <td>519.111540</td>\n",
              "      <td>23.283346</td>\n",
              "      <td>19.523517</td>\n",
              "      <td>7.092566</td>\n",
              "      <td>0.131547</td>\n",
              "    </tr>\n",
              "    <tr>\n",
              "      <th>min</th>\n",
              "      <td>676.530029</td>\n",
              "      <td>70.000000</td>\n",
              "      <td>7.960000</td>\n",
              "      <td>8.850000</td>\n",
              "      <td>1.039047</td>\n",
              "    </tr>\n",
              "    <tr>\n",
              "      <th>25%</th>\n",
              "      <td>1239.874969</td>\n",
              "      <td>109.725000</td>\n",
              "      <td>14.380000</td>\n",
              "      <td>15.570000</td>\n",
              "      <td>1.171313</td>\n",
              "    </tr>\n",
              "    <tr>\n",
              "      <th>50%</th>\n",
              "      <td>1551.434998</td>\n",
              "      <td>120.580002</td>\n",
              "      <td>33.869999</td>\n",
              "      <td>17.268500</td>\n",
              "      <td>1.303296</td>\n",
              "    </tr>\n",
              "    <tr>\n",
              "      <th>75%</th>\n",
              "      <td>2073.010070</td>\n",
              "      <td>132.840004</td>\n",
              "      <td>37.827501</td>\n",
              "      <td>22.882499</td>\n",
              "      <td>1.369971</td>\n",
              "    </tr>\n",
              "    <tr>\n",
              "      <th>max</th>\n",
              "      <td>2872.870117</td>\n",
              "      <td>184.589996</td>\n",
              "      <td>117.480003</td>\n",
              "      <td>47.259998</td>\n",
              "      <td>1.598798</td>\n",
              "    </tr>\n",
              "  </tbody>\n",
              "</table>\n",
              "</div>"
            ],
            "text/plain": [
              "               SPX          GLD          USO          SLV      EUR/USD\n",
              "count  2290.000000  2290.000000  2290.000000  2290.000000  2290.000000\n",
              "mean   1654.315776   122.732875    31.842221    20.084997     1.283653\n",
              "std     519.111540    23.283346    19.523517     7.092566     0.131547\n",
              "min     676.530029    70.000000     7.960000     8.850000     1.039047\n",
              "25%    1239.874969   109.725000    14.380000    15.570000     1.171313\n",
              "50%    1551.434998   120.580002    33.869999    17.268500     1.303296\n",
              "75%    2073.010070   132.840004    37.827501    22.882499     1.369971\n",
              "max    2872.870117   184.589996   117.480003    47.259998     1.598798"
            ]
          },
          "metadata": {},
          "execution_count": 11
        }
      ]
    },
    {
      "cell_type": "markdown",
      "metadata": {
        "id": "15ASayWHg6IA"
      },
      "source": [
        "finding correlation:\n",
        "1. positive correlation\n",
        "2. Negative correlation"
      ]
    },
    {
      "cell_type": "code",
      "metadata": {
        "id": "-h6NQ7OBgtkT"
      },
      "source": [
        "correlation =gold_data.corr()"
      ],
      "execution_count": 12,
      "outputs": []
    },
    {
      "cell_type": "code",
      "metadata": {
        "colab": {
          "base_uri": "https://localhost:8080/",
          "height": 487
        },
        "id": "9xyjtUL_hdtm",
        "outputId": "05d856a7-f58b-4d5f-ba3e-f957ee1015d4"
      },
      "source": [
        "#constructing a heatmap to understand the correlation\n",
        "plt.figure(figsize= (8,8))\n",
        "sns.heatmap(correlation, cbar=True, square= True, fmt='.1f', annot_kws={'size:8'},cmap='Blues')"
      ],
      "execution_count": 24,
      "outputs": [
        {
          "output_type": "execute_result",
          "data": {
            "text/plain": [
              "<matplotlib.axes._subplots.AxesSubplot at 0x7f8b8ebd6c50>"
            ]
          },
          "metadata": {},
          "execution_count": 24
        },
        {
          "output_type": "display_data",
          "data": {
            "image/png": "[encoded data removed]",
            "text/plain": [
              "<Figure size 576x576 with 2 Axes>"
            ]
          },
          "metadata": {
            "needs_background": "light"
          }
        }
      ]
    },
    {
      "cell_type": "code",
      "metadata": {
        "colab": {
          "base_uri": "https://localhost:8080/"
        },
        "id": "d31FXiCVifdH",
        "outputId": "b934c7db-1a52-4384-af8e-a1a368e89947"
      },
      "source": [
        "#correlation values of GLD\n",
        "print(correlation['GLD'])"
      ],
      "execution_count": 25,
      "outputs": [
        {
          "output_type": "stream",
          "text": [
            "SPX        0.049345\n",
            "GLD        1.000000\n",
            "USO       -0.186360\n",
            "SLV        0.866632\n",
            "EUR/USD   -0.024375\n",
            "Name: GLD, dtype: float64\n"
          ],
          "name": "stdout"
        }
      ]
    },
    {
      "cell_type": "code",
      "metadata": {
        "colab": {
          "base_uri": "https://localhost:8080/",
          "height": 386
        },
        "id": "vdZVjc3kkpru",
        "outputId": "762da5f7-d823-443d-a3a5-6b402aa21a05"
      },
      "source": [
        "#Check the distribution of the GLD price\n",
        "sns.displot(gold_data['GLD'], color='Green')"
      ],
      "execution_count": 42,
      "outputs": [
        {
          "output_type": "execute_result",
          "data": {
            "text/plain": [
              "<seaborn.axisgrid.FacetGrid at 0x7f8b86d9dd10>"
            ]
          },
          "metadata": {},
          "execution_count": 42
        },
        {
          "output_type": "display_data",
          "data": {
            "image/png": "[encoded data removed]",
            "text/plain": [
              "<Figure size 360x360 with 1 Axes>"
            ]
          },
          "metadata": {
            "needs_background": "light"
          }
        }
      ]
    },
    {
      "cell_type": "markdown",
      "metadata": {
        "id": "uEXRmYHhlM7K"
      },
      "source": [
        "Splitting the features and Target"
      ]
    },
    {
      "cell_type": "code",
      "metadata": {
        "id": "NaHkD-Qok6fQ"
      },
      "source": [
        "X = gold_data.drop(['Date', 'GLD'], axis=1)\n",
        "Y = gold_data['GLD']"
      ],
      "execution_count": 29,
      "outputs": []
    },
    {
      "cell_type": "code",
      "metadata": {
        "colab": {
          "base_uri": "https://localhost:8080/"
        },
        "id": "6FTE96IElewC",
        "outputId": "18304bb2-7a47-4207-a346-0ec55695a46b"
      },
      "source": [
        "print(X)"
      ],
      "execution_count": 30,
      "outputs": [
        {
          "output_type": "stream",
          "text": [
            "              SPX        USO      SLV   EUR/USD\n",
            "0     1447.160034  78.470001  15.1800  1.471692\n",
            "1     1447.160034  78.370003  15.2850  1.474491\n",
            "2     1411.630005  77.309998  15.1670  1.475492\n",
            "3     1416.180054  75.500000  15.0530  1.468299\n",
            "4     1390.189941  76.059998  15.5900  1.557099\n",
            "...           ...        ...      ...       ...\n",
            "2285  2671.919922  14.060000  15.5100  1.186789\n",
            "2286  2697.790039  14.370000  15.5300  1.184722\n",
            "2287  2723.070068  14.410000  15.7400  1.191753\n",
            "2288  2730.129883  14.380000  15.5600  1.193118\n",
            "2289  2725.780029  14.405800  15.4542  1.182033\n",
            "\n",
            "[2290 rows x 4 columns]\n"
          ],
          "name": "stdout"
        }
      ]
    },
    {
      "cell_type": "code",
      "metadata": {
        "colab": {
          "base_uri": "https://localhost:8080/"
        },
        "id": "tT-rJURVlkEv",
        "outputId": "7a1c4b0b-d487-4902-b70f-38871b1f64af"
      },
      "source": [
        "print(Y)"
      ],
      "execution_count": 31,
      "outputs": [
        {
          "output_type": "stream",
          "text": [
            "0        84.860001\n",
            "1        85.570000\n",
            "2        85.129997\n",
            "3        84.769997\n",
            "4        86.779999\n",
            "           ...    \n",
            "2285    124.589996\n",
            "2286    124.330002\n",
            "2287    125.180000\n",
            "2288    124.489998\n",
            "2289    122.543800\n",
            "Name: GLD, Length: 2290, dtype: float64\n"
          ],
          "name": "stdout"
        }
      ]
    },
    {
      "cell_type": "markdown",
      "metadata": {
        "id": "CrVhMniAlsap"
      },
      "source": [
        "Spliting into trainnig data and Test data"
      ]
    },
    {
      "cell_type": "code",
      "metadata": {
        "id": "1oK1hXw4lqVI"
      },
      "source": [
        "X_train, X_test, Y_train, Y_test = train_test_split(X, Y, test_size= 0.2, random_state =2)"
      ],
      "execution_count": 32,
      "outputs": []
    },
    {
      "cell_type": "markdown",
      "metadata": {
        "id": "DVH70ErrmWQY"
      },
      "source": [
        "Model Training: Random Forest Regression"
      ]
    },
    {
      "cell_type": "code",
      "metadata": {
        "id": "-HNDBHuymVCP"
      },
      "source": [
        "regressor = RandomForestRegressor(n_estimators= 100)"
      ],
      "execution_count": 33,
      "outputs": []
    },
    {
      "cell_type": "code",
      "metadata": {
        "colab": {
          "base_uri": "https://localhost:8080/"
        },
        "id": "mk034X-Um5TU",
        "outputId": "c19b1702-ca72-4d08-9617-5b58b050112d"
      },
      "source": [
        "#training the model\n",
        "regressor.fit(X_train, Y_train)"
      ],
      "execution_count": 34,
      "outputs": [
        {
          "output_type": "execute_result",
          "data": {
            "text/plain": [
              "RandomForestRegressor(bootstrap=True, ccp_alpha=0.0, criterion='mse',\n",
              "                      max_depth=None, max_features='auto', max_leaf_nodes=None,\n",
              "                      max_samples=None, min_impurity_decrease=0.0,\n",
              "                      min_impurity_split=None, min_samples_leaf=1,\n",
              "                      min_samples_split=2, min_weight_fraction_leaf=0.0,\n",
              "                      n_estimators=100, n_jobs=None, oob_score=False,\n",
              "                      random_state=None, verbose=0, warm_start=False)"
            ]
          },
          "metadata": {},
          "execution_count": 34
        }
      ]
    },
    {
      "cell_type": "markdown",
      "metadata": {
        "id": "bhXt_OpZnG6L"
      },
      "source": [
        "Model Evaluation"
      ]
    },
    {
      "cell_type": "code",
      "metadata": {
        "id": "0Oo9WvYsnCSf"
      },
      "source": [
        "#prediction on test data\n",
        "test_data_prediction = regressor.predict(X_test)"
      ],
      "execution_count": 35,
      "outputs": []
    },
    {
      "cell_type": "code",
      "metadata": {
        "colab": {
          "base_uri": "https://localhost:8080/"
        },
        "id": "WZWXefDhnSfA",
        "outputId": "feb0ff7b-7424-468b-95f9-ac9461a1af0c"
      },
      "source": [
        "print(test_data_prediction)"
      ],
      "execution_count": 36,
      "outputs": [
        {
          "output_type": "stream",
          "text": [
            "[168.53839911  82.06699991 115.86780027 127.58320081 120.66120161\n",
            " 154.70849761 150.20559874 126.32350036 117.5088986  126.09150092\n",
            " 116.56810103 170.92450056 141.7921985  168.08369902 115.19410021\n",
            " 117.88700041 138.13590288 170.37020177 159.46800231 160.85870019\n",
            " 155.02080008 125.13220057 175.89420025 157.72110368 125.24480044\n",
            "  93.69749991  77.39460013 120.73430007 119.08759913 167.48130015\n",
            "  88.2629002  125.07760007  90.89670057 117.56410027 121.17679892\n",
            " 136.25050152 115.49460156 115.27550071 147.33699948 107.08930094\n",
            " 104.1194024   87.19739787 126.50020041 118.06159991 154.39929855\n",
            " 119.55910021 108.28870014 108.28939813  93.12800044 126.96959873\n",
            "  75.09340022 113.65329922 121.37779989 111.19859903 118.89169866\n",
            " 120.53639923 159.4867997  169.15960112 146.99489731  86.02429894\n",
            "  94.28390046  86.85179886  90.75129986 119.0530008  126.5154006\n",
            " 127.61510026 168.14019994 122.28539926 117.52599892  98.36750019\n",
            " 168.58420142 143.05139914 132.03990287 121.0865023  121.75739907\n",
            " 119.63890066 114.6289016  118.20110063 107.0529008  127.85910068\n",
            " 114.08579982 107.11110021 117.27000046 119.63219896  88.89460032\n",
            "  88.28749861 146.61840226 127.22469997 113.19510021 109.97139823\n",
            " 108.23999887  77.36149902 169.66720166 114.16949929 121.75029871\n",
            " 128.07280132 154.96289859  91.8332994  137.19310054 159.06060298\n",
            " 125.83910096 125.47800046 130.69430197 114.93370137 119.97450006\n",
            "  92.10389991 110.02839881 166.34099967 157.07299979 114.38609978\n",
            " 106.58490136  79.83379956 113.32300056 125.89370089 107.38769938\n",
            " 119.24210083 156.15400319 159.4680996  120.41249992 134.0875021\n",
            " 101.28279982 117.50709791 119.26760076 113.08190112 102.7797994\n",
            " 160.47729872  98.9054004  149.29449926 125.56130105 170.12049945\n",
            " 125.95229793 127.29529775 127.36370174 113.79859933 112.85390064\n",
            " 123.41909916 102.19519901  89.25139988 124.88289964 101.26049913\n",
            " 106.98889939 113.7036007  117.48580057  99.20269955 121.70540064\n",
            " 163.54929891  87.47299848 106.62719939 117.2980009  127.74470105\n",
            " 124.0965004   80.59859904 120.27510066 157.39979862  88.14569963\n",
            " 110.32269915 118.78059947 172.11989888 103.05039901 105.58240059\n",
            " 122.42220018 158.48999828  87.45589851  93.24160058 112.72910004\n",
            " 177.09790027 114.27909983 119.26770057  94.695101   125.71070058\n",
            " 166.062001   114.88170066 116.94570146  88.35109874 149.06570096\n",
            " 120.33579943  89.55359954 112.39279988 117.38280038 118.81440107\n",
            "  88.29409935  94.12429992 117.12610004 118.58760189 120.09340027\n",
            " 126.96479771 121.88779977 149.13999997 165.12280043 118.70519969\n",
            " 120.25130162 151.52690034 118.42819887 171.74829899 105.18749937\n",
            " 105.03590063 149.11540098 113.7504007  124.95450099 148.20989995\n",
            " 119.80730136 115.43480042 112.57099999 113.48490209 141.95480139\n",
            " 117.85329791 102.96730072 115.87710091 103.40320179  98.38730049\n",
            " 117.40540061  90.63840031  91.77160065 153.29369908 102.68639996\n",
            " 154.69280083 114.35680167 138.83470107  89.95229799 115.49969959\n",
            " 114.39509942 123.06220026 121.82680017 165.31520107  92.80539965\n",
            " 135.57310201 121.35459962 120.86650043 104.47599988 141.45230274\n",
            " 121.67729949 116.46050034 113.43570105 126.98669816 122.71469948\n",
            " 125.80779993 121.22630048  86.95509907 132.14670163 145.20440198\n",
            "  92.72399925 159.77579918 159.41280177 126.29279955 164.83369978\n",
            " 108.65259944 110.66390063 103.56359823  94.22460054 128.15390279\n",
            " 107.05860041 161.65419959 121.6956006  132.02110019 130.76700172\n",
            " 160.81499933  90.11659848 175.19080192 127.19770041 127.05439777\n",
            "  86.37939879 124.48589947 150.23859677  89.70019988 106.84639965\n",
            " 109.01460005  84.15129918 135.88519936 154.98220272 139.06850343\n",
            "  74.09040019 153.15930083 126.1315002  126.82469972 127.52709889\n",
            " 108.86869977 156.08080042 114.738201   117.08970156 125.33319953\n",
            " 154.09540138 121.31649966 156.51729805  93.01680052 125.42820127\n",
            " 125.70150045  87.90080027  92.26519922 126.36089965 128.07650271\n",
            " 113.22720062 117.75229774 120.96580005 127.0408985  119.96770109\n",
            " 136.67040137  94.0582994  119.80220073 113.36840113  94.3274994\n",
            " 108.83449979  87.42439928 109.38789955  89.60099962  92.40879991\n",
            " 131.7167026  162.20120046  89.4891999  119.52520102 133.31790207\n",
            " 123.93030032 128.27390187 101.90869842  88.93119904 131.78760082\n",
            " 120.23730035 109.13519966 167.66370087 115.17230034  86.59499853\n",
            " 118.76780057  91.03979954 161.60329982 116.71650051 121.59040006\n",
            " 159.93359825 120.07789918 112.89269923 108.33119847 126.73859966\n",
            "  76.24710038 102.98869972 127.85380267 121.77539943  92.61279978\n",
            " 132.26010103 118.02890131 115.88779996 154.84310285 159.57300066\n",
            " 110.02049964 152.02109809 119.41140086 160.61300126 118.50050005\n",
            " 157.68520008 115.11629964 116.48550024 148.89109883 114.90160062\n",
            " 125.72849871 165.16909948 117.79670007 125.51599924 153.77700353\n",
            " 153.49320249 131.96310074 114.74660048 121.20140206 124.83520065\n",
            "  89.88060051 122.81799955 154.75590151 111.69320024 106.6684996\n",
            " 161.70410085 118.54949957 165.56609995 134.0071013  114.77049951\n",
            " 152.96459924 168.50689913 114.85709998 113.98320143 158.09819934\n",
            "  85.4425986  127.18150062 128.02310046 129.09269964 124.31970087\n",
            " 123.75400051  90.7530006  153.62169966  97.12239979 137.3218996\n",
            "  88.96429889 107.16280002 115.08300068 112.95300071 124.44559905\n",
            "  91.44229882 125.55870123 162.44739877 119.92939879 165.27770096\n",
            " 127.0879975  112.19239993 127.61079922  95.18069898  90.97379984\n",
            " 102.81329884 120.87239994  83.14349956 126.33519961 160.62320492\n",
            " 117.35510082 118.14969986 120.31590002 122.47279939 120.09280133\n",
            " 121.42660007 117.94310056 107.01349997 148.20679988 126.4965978\n",
            " 115.70370046  73.83750024 127.81590076 154.30630039 122.80170014\n",
            " 125.5607004   88.72600015 103.74839856 124.60260034 120.18530054\n",
            "  73.41630088 152.04520099 121.18290021 104.64179998  86.1923978\n",
            " 115.08529908 172.2581981  119.83400035 159.1185976  113.17699977\n",
            " 121.1213999  118.38750103  95.90319987 118.61650003 125.80330038\n",
            " 118.52469941  96.02860069 153.9871017  122.00109983 147.48320017\n",
            " 159.07870276 113.76350005 122.56019951 149.27179785 127.12500031\n",
            " 165.84420019 136.37110064 120.00709995 167.65469905 108.31979909\n",
            " 121.88209846 139.65340088 106.03689897]\n"
          ],
          "name": "stdout"
        }
      ]
    },
    {
      "cell_type": "code",
      "metadata": {
        "colab": {
          "base_uri": "https://localhost:8080/"
        },
        "id": "BerTqHGjnXLF",
        "outputId": "fa5573f1-c71b-424e-db5c-4a3bd424f9ca"
      },
      "source": [
        "# R squared error\n",
        "error_score = metrics.r2_score(Y_test, test_data_prediction)\n",
        "print(\"R Squared error :\", error_score)"
      ],
      "execution_count": 37,
      "outputs": [
        {
          "output_type": "stream",
          "text": [
            "R Squared error : 0.9901351737962828\n"
          ],
          "name": "stdout"
        }
      ]
    },
    {
      "cell_type": "markdown",
      "metadata": {
        "id": "PqV4DNRnoEHn"
      },
      "source": [
        "Compare the actual value and predicted vlaues in a plot"
      ]
    },
    {
      "cell_type": "code",
      "metadata": {
        "id": "cpjhDjlLnzUx"
      },
      "source": [
        "Y_test= list(Y_test)"
      ],
      "execution_count": 38,
      "outputs": []
    },
    {
      "cell_type": "code",
      "metadata": {
        "colab": {
          "base_uri": "https://localhost:8080/",
          "height": 295
        },
        "id": "F7NDYVZnoP5O",
        "outputId": "7bf72dc9-4ba1-4b9d-da8d-a3f9a543ec1c"
      },
      "source": [
        "plt.plot(Y_test, color ='blue', label ='Actual value')\n",
        "plt.plot(test_data_prediction, color= 'green', label= 'predicted value')\n",
        "plt.title('Actual Price vs Predicted Price')\n",
        "plt.xlabel('Number of values')\n",
        "plt.ylabel('GLD Price')\n",
        "plt.legend()\n",
        "plt.show()"
      ],
      "execution_count": 41,
      "outputs": [
        {
          "output_type": "display_data",
          "data": {
            "image/png": "[encoded data removed]",
            "text/plain": [
              "<Figure size 432x288 with 1 Axes>"
            ]
          },
          "metadata": {
            "needs_background": "light"
          }
        }
      ]
    },
    {
      "cell_type": "code",
      "metadata": {
        "id": "3xemOQEVo6iG"
      },
      "source": [
        ""
      ],
      "execution_count": null,
      "outputs": []
    }
  ]
}